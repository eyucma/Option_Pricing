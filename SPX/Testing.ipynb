{
 "cells": [
  {
   "cell_type": "code",
   "execution_count": 18,
   "metadata": {},
   "outputs": [],
   "source": [
    "from BS_utils import *\n",
    "import yfinance as yf\n",
    "import pandas as pd\n",
    "import numpy as np\n",
    "import datetime as dt"
   ]
  },
  {
   "cell_type": "code",
   "execution_count": 10,
   "metadata": {},
   "outputs": [
    {
     "name": "stdout",
     "output_type": "stream",
     "text": [
      "The autoreload extension is already loaded. To reload it, use:\n",
      "  %reload_ext autoreload\n"
     ]
    }
   ],
   "source": [
    "%load_ext autoreload\n",
    "%autoreload 2"
   ]
  },
  {
   "cell_type": "code",
   "execution_count": 20,
   "metadata": {},
   "outputs": [
    {
     "data": {
      "text/plain": [
       "np.float64(0.20000000000000004)"
      ]
     },
     "execution_count": 20,
     "metadata": {},
     "output_type": "execute_result"
    }
   ],
   "source": [
    "P,_=BS()\n",
    "imp_vol_BS(P)"
   ]
  },
  {
   "cell_type": "code",
   "execution_count": 48,
   "metadata": {},
   "outputs": [],
   "source": [
    "asset = yf.Ticker('^SPX')\n",
    "expirations = asset.options\n",
    "\n",
    "chains = pd.DataFrame()\n",
    "\n",
    "for expiration in expirations:\n",
    "    # tuple of two dataframes\n",
    "    opt = asset.option_chain(expiration)\n",
    "    \n",
    "    calls = opt.calls\n",
    "    calls['optionType'] = \"call\"\n",
    "    \n",
    "    puts = opt.puts\n",
    "    puts['optionType'] = \"put\"\n",
    "    \n",
    "    chain = pd.concat([calls, puts])\n",
    "    chain['expiration'] = pd.to_datetime(expiration) + pd.DateOffset(hours=23, minutes=59, seconds=59)\n",
    "    \n",
    "    chains = pd.concat([chains, chain])\n",
    "\n",
    "\n"
   ]
  },
  {
   "cell_type": "code",
   "execution_count": 49,
   "metadata": {},
   "outputs": [
    {
     "data": {
      "text/plain": [
       "0    2025-04-22 23:59:59\n",
       "1    2025-04-22 23:59:59\n",
       "2    2025-04-22 23:59:59\n",
       "3    2025-04-22 23:59:59\n",
       "4    2025-04-22 23:59:59\n",
       "             ...        \n",
       "48   2030-12-20 23:59:59\n",
       "49   2030-12-20 23:59:59\n",
       "50   2030-12-20 23:59:59\n",
       "51   2030-12-20 23:59:59\n",
       "52   2030-12-20 23:59:59\n",
       "Name: expiration, Length: 17397, dtype: datetime64[ns]"
      ]
     },
     "execution_count": 49,
     "metadata": {},
     "output_type": "execute_result"
    }
   ],
   "source": [
    "chains['expiration']"
   ]
  },
  {
   "cell_type": "code",
   "execution_count": 30,
   "metadata": {},
   "outputs": [
    {
     "data": {
      "text/plain": [
       "['expiration']"
      ]
     },
     "execution_count": 30,
     "metadata": {},
     "output_type": "execute_result"
    }
   ],
   "source": [
    "['expiration']"
   ]
  },
  {
   "cell_type": "code",
   "execution_count": 61,
   "metadata": {},
   "outputs": [
    {
     "data": {
      "text/plain": [
       "0        1.218750\n",
       "1        1.432639\n",
       "2        1.291667\n",
       "3        3.327083\n",
       "4        0.634722\n",
       "         ...     \n",
       "48    1509.421528\n",
       "49    1518.117361\n",
       "50    1503.174306\n",
       "51    1487.399306\n",
       "52    1487.399306\n",
       "Length: 17397, dtype: float64"
      ]
     },
     "execution_count": 61,
     "metadata": {},
     "output_type": "execute_result"
    }
   ],
   "source": [
    "chains.apply(lambda x: np.busday_count(x['lastTradeDate'].date(),x['expiration'].date())+(24*60-x['lastTradeDate'].hour*60-x['lastTradeDate'].minute)/24/60,axis=1)"
   ]
  },
  {
   "cell_type": "code",
   "execution_count": 64,
   "metadata": {},
   "outputs": [
    {
     "data": {
      "text/plain": [
       "True"
      ]
     },
     "execution_count": 64,
     "metadata": {},
     "output_type": "execute_result"
    }
   ],
   "source": [
    "chains.lastTradeDate.iloc[0]>chains.lastTradeDate.iloc[1]"
   ]
  },
  {
   "cell_type": "code",
   "execution_count": 66,
   "metadata": {},
   "outputs": [
    {
     "data": {
      "text/plain": [
       "Timestamp('2025-04-14 13:37:01+0000', tz='UTC')"
      ]
     },
     "execution_count": 66,
     "metadata": {},
     "output_type": "execute_result"
    }
   ],
   "source": [
    "chains.lastTradeDate.iloc[1]-dt.timedelta(weeks=1)"
   ]
  },
  {
   "cell_type": "code",
   "execution_count": 45,
   "metadata": {},
   "outputs": [
    {
     "data": {
      "text/plain": [
       "18"
      ]
     },
     "execution_count": 45,
     "metadata": {},
     "output_type": "execute_result"
    }
   ],
   "source": [
    "dt.datetime.today().minute"
   ]
  }
 ],
 "metadata": {
  "kernelspec": {
   "display_name": "Python 3",
   "language": "python",
   "name": "python3"
  },
  "language_info": {
   "codemirror_mode": {
    "name": "ipython",
    "version": 3
   },
   "file_extension": ".py",
   "mimetype": "text/x-python",
   "name": "python",
   "nbconvert_exporter": "python",
   "pygments_lexer": "ipython3",
   "version": "3.12.5"
  }
 },
 "nbformat": 4,
 "nbformat_minor": 2
}
